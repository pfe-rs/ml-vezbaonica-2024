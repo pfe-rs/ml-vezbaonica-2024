{
 "cells": [
  {
   "cell_type": "markdown",
   "metadata": {},
   "source": [
    "# Prvi zadatak\n",
    "Pred tobom je prvi zadatak iz vežbaonice iz mašinskog učenja. Kroz njega ćeš proći neke osnovne koncepte pripreme podataka, obrade slike, kao i par različitih modela klasifikacije. Nadamo se da će ti ovo pomoći da utvrdiš gradivo sa predavanja i primeniš ga na konkretnu problematiku.\n",
    "    \n",
    "Sigurno si bar čuo za igru \"papir-kamen-makaze\". U folderu \"Rock Paper Scissors\" nalazi se baza podataka sa slikama šake u sva tri različita položaja. Cilj zadatka je projektovati inovativni sistem za prepoznavanje pokazanih znakova (njihovu klasifikaciju). Ispod ćeš pronaći odvojene celine koje predstavljaju korake u standadrdnom pristupu projektovanja jednog sistema primenom mašinskog učenja. Takođe, primetićeš i neka mesta popunjena komentarima; njih je potreno izmeniti tako da se odgovori na očekivani zadatak."
   ]
  },
  {
   "cell_type": "markdown",
   "metadata": {},
   "source": [
    "#### Učitavanje potrebnih biblioteka"
   ]
  },
  {
   "cell_type": "markdown",
   "metadata": {},
   "source": [
    "Pre svega, potrebno je učitati biblioteke potrebne za dalji rad. U sličaju da bilo šta dodatno bude potrebno, možeš dopisati biblioteke ispod."
   ]
  },
  {
   "cell_type": "code",
   "execution_count": 1,
   "metadata": {},
   "outputs": [],
   "source": [
    "import numpy as np\n",
    "import matplotlib.pyplot as plt\n",
    "import random\n",
    "import pandas as pd\n",
    "import cv2\n",
    "import os\n",
    "import seaborn as sn\n",
    "\n",
    "from sklearn.metrics import confusion_matrix\n",
    "from sklearn.neighbors import KNeighborsClassifier\n",
    "from sklearn.metrics import accuracy_score\n",
    "\n",
    "# ovde možeš učitati dodatne biblioteke ukoliko za njima bude potrebe"
   ]
  },
  {
   "cell_type": "markdown",
   "metadata": {},
   "source": [
    "## Analiza i priprema podataka"
   ]
  },
  {
   "cell_type": "markdown",
   "metadata": {},
   "source": [
    "Hajde da prvo učitamo podatke i pogledadmo šta imamo u našoj bazi.\n",
    "\n",
    "<span style=\"color:red\"> Dopuniti ćeliju ispod. </span>"
   ]
  },
  {
   "cell_type": "code",
   "execution_count": null,
   "metadata": {},
   "outputs": [],
   "source": [
    "# učitavanje primera slika prosleđenih u okviru foldera\n",
    "slika_1 = plt.imread('dataset/test1.png')\n",
    "slika_2 = \"\"\" dopuniti ucitavanje druge slike \"\"\"\n",
    "slika_3 = \"\"\" dopuniti ucitavanje trece slike \"\"\"\n",
    "\n",
    "# prikaz slika\n",
    "plt.figure(figsize=(15, 15))\n",
    "plt.subplot(1, 3, 1)\n",
    "plt.imshow(slika_1), plt.axis('off'), plt.title('Papir')\n",
    "plt.subplot(1, 3, 2)\n",
    "plt.imshow(slika_2), plt.axis('off'), plt.title('Makaze')\n",
    "plt.subplot(1, 3, 3)\n",
    "plt.imshow(slika_3), plt.axis('off'), plt.title('Kamen')\n",
    "plt.show()"
   ]
  },
  {
   "cell_type": "markdown",
   "metadata": {},
   "source": [
    "Kao što vidimo, naša baza se sastoji od tri različita položaja šake na zelenoj pozadini.     \n",
    "Ako se prisetimo predavanja, potrebno je izdvojiti različita karakteristična obeležja iz priloženih slika da bi se nad njima projektovao neki od statističkkih klasifikatora u daljim koracima.\n",
    "\n",
    "<span style=\"color:blue\"> Šta znači izdvojiti neke karakteristike? </span> Hajde razmisli o tome.<span style=\"color:blue\"> Šta je ono što možeš uočiti kao razlike između ove tri slike samo gledajući u njih?</span>   \n",
    "Ja ću navesti dve stvari, a ti dopuni spisak sa još dve nove:     \n",
    "1. Kod papira ruka prekriva skoro celu pozadinu, kod makaza i kamena manje. \n",
    "2. Kod slike papira, svih 5 prstiju je ispruženo, kod makaze dva, kod kamena ni jedan.    \n",
    "3. <span style=\"color:red\"> dopuniti novom karakteristikom </span>\n",
    "4. <span style=\"color:red\"> dopuniti novom karakteristikom </span>"
   ]
  },
  {
   "cell_type": "markdown",
   "metadata": {},
   "source": [
    "Pomenute karakteristike je potrebno kvantifikovati, odnosno predstaviti brojevima. Pre nego što to uradimo, potrebno je pripremiti sliku za izvlačenje tih karakteristika."
   ]
  },
  {
   "cell_type": "markdown",
   "metadata": {},
   "source": [
    "## Obrada slike"
   ]
  },
  {
   "cell_type": "markdown",
   "metadata": {},
   "source": [
    "Pre izdvajanja karakteristika potrebno je obraditi sliku. Kod namenjen za ovu celinu nalazi se u funckiji ispod.  \n",
    "\n",
    "Koraci predobrade:       \n",
    "1. Prvo je potrebno zamutiti sliku radi otklanjanja naglih ivica\n",
    "2. Zatim sledi binarizacija slike - svi pikseli koji imaju bilo kakvu koncentraciju zelene treba da postanu crni, a ostali da postanu beli\n",
    "3. Primeniti dilataciju kojom su uvećani objekti i uklonjeni mali razmaci između prstiju (dok je šaka zatvorena na primer), kako bi se kasnije izdvojila konzistentna celina \n",
    "4. Onda primeniti eroziju kako bi se oblik vratio na prethodne dimenzije\n",
    "\n",
    "<span style=\"color:red\"> Dopuniti ćeliju ispod. </span>"
   ]
  },
  {
   "cell_type": "code",
   "execution_count": 29,
   "metadata": {},
   "outputs": [],
   "source": [
    "def preprocessing(picture) -> np.ndarray:\n",
    "    # zamucivanje slike\n",
    "    picture = cv2.GaussianBlur(picture, (11,11), 0)\n",
    "\n",
    "    # binarizacija slike po zelenoj boji\n",
    "    \"\"\" dopuniti a, b i c vrednosti za binarizaciju \"\"\"\n",
    "    a, b, c = # crvena, plava, bela\n",
    "    picture = np.where((picture[:,:,0] < a) & (picture[:,:,1] > b) & (picture[:,:,2] < c), 0, 1)\n",
    "    # konverzija slike u uint8 format\n",
    "    picture = picture.astype(np.uint8)\n",
    "    \n",
    "    # dilatacija i erozija slike\n",
    "    kernel = np.ones((5,5), np.uint8)\n",
    "    \"\"\" primeniti funkcije dilate i erode iz biblioteke cv2 \"\"\"\n",
    "    picture = # dilatacija\n",
    "    picture = # erozija\n",
    "\n",
    "    return picture"
   ]
  },
  {
   "cell_type": "markdown",
   "metadata": {},
   "source": [
    "Primer slika nakon procesiranja:\n",
    "\n",
    "<span style=\"color:red\"> Dopuniti ćeliju ispod. </span>"
   ]
  },
  {
   "cell_type": "code",
   "execution_count": null,
   "metadata": {},
   "outputs": [],
   "source": [
    "obradjena_slika_1 = \"\"\" obrada slike 1 \"\"\"\n",
    "obradjena_slika_2 = \"\"\" obrada slike 2 \"\"\"\n",
    "obradjena_slika_3 = \"\"\" obrada slike 3 \"\"\"\n",
    "\n",
    "# prikaz obradjenih slika\n",
    "\"\"\" prikazati obradjene slike kao primere iz baze podataka u par ćelija iznad \"\"\""
   ]
  },
  {
   "cell_type": "markdown",
   "metadata": {},
   "source": [
    "## Izvlačenje karakterističnih obeležja"
   ]
  },
  {
   "cell_type": "markdown",
   "metadata": {},
   "source": [
    "Sada kada smo dobili binarizovane slike šake, postaje lakše izvući karakteristike. "
   ]
  },
  {
   "cell_type": "markdown",
   "metadata": {},
   "source": [
    "Priseti se prve predložene karakteristike koja razlikuje slike šaka koje pokazuju papir kamen i makaze:   \n",
    "- Kod papira ruka prekriva skoro celu pozadinu, kod makaza i kamena manje.    \n",
    "\n",
    "<span style=\"color:blue\">  Kako bi kvantitativno predstavio ovakvu karakteristiku? </span>  Ukoliko je više piksela bele boje na slici, verovatnije je da ta slika predstavlja papir, nego makaze i kamen. Ukoliko uporedimo broj belih piksela na levoj strani slike, videćemo da će se za papir javiti neki, dok će za kamen najverovatnije levi deo slike ostati prazan. Ispod se nalazi par funkcije koje izvljače prvih par karakteristika."
   ]
  },
  {
   "cell_type": "markdown",
   "metadata": {},
   "source": [
    "Odnos broja belih i svih piksela na slici (udeo belih piksela u celoj slici):\n",
    "\n",
    "<span style=\"color:red\"> Dopuniti ćeliju ispod. </span>"
   ]
  },
  {
   "cell_type": "code",
   "execution_count": 31,
   "metadata": {},
   "outputs": [],
   "source": [
    "def feature1(picture) -> int:\n",
    "    \"\"\"Vraca udeo belih piksela u slici\"\"\"\n",
    "    ukupan_broj_belih_piksela = # dopuni\n",
    "    ukupan_broj_svih_piksela =  # dopuni\n",
    "\n",
    "    return ukupan_broj_belih_piksela / ukupan_broj_svih_piksela"
   ]
  },
  {
   "cell_type": "markdown",
   "metadata": {},
   "source": [
    "Udeo belih piksela u levoj i desnoj polovini slike:"
   ]
  },
  {
   "cell_type": "code",
   "execution_count": 32,
   "metadata": {},
   "outputs": [],
   "source": [
    "def feature2(picture) -> list:\n",
    "    \"\"\"Vraca udeo belih piksela u 2 segmenta slike\"\"\"\n",
    "\n",
    "    len_x, len_y = picture.shape        # duzina i sirina slike\n",
    "    segment1 = picture[:, :len_y//2]    # levi segment slike\n",
    "    segment2 = picture[:, len_y//2:]    # desni segment slike\n",
    "\n",
    "    return [sum(sum(segment1)) / (len(segment1)*len(segment1[:,0])), sum(sum(segment2)) / (len(segment2)*len(segment2[:,0]))]"
   ]
  },
  {
   "cell_type": "code",
   "execution_count": null,
   "metadata": {},
   "outputs": [],
   "source": [
    "def feature3(picture) -> list:\n",
    "    \"\"\" vratiti se kasnije na ovaj deo koda \"\"\"\n",
    "    return 1"
   ]
  },
  {
   "cell_type": "code",
   "execution_count": null,
   "metadata": {},
   "outputs": [],
   "source": [
    "def feature4(picture) -> list:\n",
    "    \"\"\" vratiti se kasnije na ovaj deo koda \"\"\"\n",
    "    return 1"
   ]
  },
  {
   "cell_type": "markdown",
   "metadata": {},
   "source": [
    "Funkcija find_features primenjuje sve prethodne i vraća listu svih karakteristika. "
   ]
  },
  {
   "cell_type": "code",
   "execution_count": 36,
   "metadata": {},
   "outputs": [],
   "source": [
    "def find_features(path) -> list:\n",
    "    \"\"\"Vraca listu svih karakteristika\"\"\"\n",
    "\n",
    "    pic = plt.imread(path)              # ucitavanje slike\n",
    "    pic_bin = preprocessing(pic)        # obrada slike\n",
    "    \n",
    "    features = [feature1(pic_bin)]      # izvlacenje prve karakteristike\n",
    "    features.extend(feature2(pic_bin))  # izvlacenje druge dve karakteristike\n",
    "\n",
    "    \"\"\" vratiti se na ovaj deo koda kasnije \"\"\"\n",
    "    # ovde dodati sve naknadno izvucene karakteristike\n",
    "    # features.extend(feature3(pic_bin))\n",
    "    # features.extend(feature4(pic_bin))\n",
    "\n",
    "    return features"
   ]
  },
  {
   "cell_type": "markdown",
   "metadata": {},
   "source": [
    "## Učitavanje i podela podataka na trening i test skup"
   ]
  },
  {
   "cell_type": "markdown",
   "metadata": {},
   "source": [
    "Pre projektovanja samog klasifikatora jako je bitno pravilno i pravedno podeliti podatke na trening i test skup. Podaci moraju biti potpuno odvojeni i nikako se ne smeju mešati. Primera radi, ako ti nastavnica na testu da iste zadatke koje si radio/la na času, da li si siguran/na da ćeš ispravno naučiti gradivo? Ukoliko provežbaš 100 primera iz sabiranja i 1 primer iz oduzimanja, da li misliš da ćeš sa istom verovatnoćom moći da rešiš i jedan i drugi zadatak? Zato je bitno da nam se i u trening i u test setu nalazi približno isti broj odbiraka iz različitih klasa, kao i da nam kompletan dataset bude balansiran.\n",
    "\n",
    "<span style=\"color:red\"> Dopuniti ćeliju ispod. </span>"
   ]
  },
  {
   "cell_type": "code",
   "execution_count": 37,
   "metadata": {},
   "outputs": [],
   "source": [
    "def train_test(rock, paper, scissors, perc = 0.8):\n",
    "    \"\"\"Podela podataka na trening i test skup\"\"\"\n",
    "\n",
    "    \"\"\" primeniti funkciju shuffle iz biblioteke random i obezbediti mesanje svake klase \"\"\"\n",
    "    # ovde dopuniti\n",
    "\n",
    "    rock_train, rock_test = rock[:int(len(rock)*perc)], rock[int(len(rock)*perc):]                          # podela kamena na trening i test skup\n",
    "    paper_train, paper_test = paper[:int(len(paper)*perc)], paper[int(len(paper)*perc):]                    # podela papira na trening i test skup              \n",
    "    scissors_train, scissors_test = scissors[:int(len(scissors)*perc)], scissors[int(len(scissors)*perc):]  # podela makaza na trening i test skup\n",
    "\n",
    "    train_set = rock_train + paper_train + scissors_train   # trening skup\n",
    "    test_set = rock_test + paper_test + scissors_test       # test skup\n",
    "\n",
    "    \"\"\" primeniti funkciju shuffle iz biblioteke random i obezbediti mesanje celog trening i test seta podataka \"\"\"\n",
    "    # ovde dopuniti\n",
    "\n",
    "    train_data = np.array([x[0] for x in train_set])        # izdvajanje trening podataka\n",
    "    train_labels = np.array([x[1] for x in train_set])      # izdvajanje labela za trening\n",
    "    \n",
    "    \"\"\" na isti način izdvojiti test podatke, kao i odgovarajuće labele \"\"\"\n",
    "    test_data =  # dopuniti ovde\n",
    "    train_data = # dopuniti ovde\n",
    "\n",
    "    return train_data, train_labels, test_data, test_labels"
   ]
  },
  {
   "cell_type": "markdown",
   "metadata": {},
   "source": [
    "Učitavanje podataka iz baze i enkodovanje labela (kamen - 0, papir - 1, makaze - 2)"
   ]
  },
  {
   "cell_type": "code",
   "execution_count": 89,
   "metadata": {},
   "outputs": [],
   "source": [
    "rootdir = 'Rock Paper Scissors'                                          # putanja do foldera sa slikama\n",
    "rock, paper, scissors = [], [], []                                       # liste za kamen, papir i makaze \n",
    "\n",
    "for subdir, dirs, files in os.walk('.\\\\dataset'):\n",
    "    for file in files:\n",
    "        label = subdir.split('\\\\')[-1]\n",
    "\n",
    "        feature = find_features(os.path.join(subdir, file))              # izvlacenje karakteristika slike\n",
    "\n",
    "        if label == 'rock':\n",
    "            rock.append([feature, 0])                                    # ukoliko je kamen, labela je 0\n",
    "        elif label == 'paper':\n",
    "            paper.append([feature, 1])                                   # ukoliko je papir, labela je 1\n",
    "        else:\n",
    "            scissors.append([feature, 2])                                # ukoliko su makaze, labela je 2"
   ]
  },
  {
   "cell_type": "markdown",
   "metadata": {},
   "source": [
    "## Analiza karakteristika"
   ]
  },
  {
   "cell_type": "markdown",
   "metadata": {},
   "source": [
    "Nakon što su izdvojene neke karakteristike, hajde da ih malo bolje pogledamo. Koliko su one korisne i koliko su međusobno slične, samo su neka od pitanja koja treba pročešljati pre projektovanja klasifikatora. \n",
    "\n",
    "<span style=\"color:red\"> Dopuniti ćeliju ispod. </span>"
   ]
  },
  {
   "cell_type": "code",
   "execution_count": null,
   "metadata": {},
   "outputs": [],
   "source": [
    "\"\"\" podela podataka na trening i test skup \"\"\"\n",
    "train_data, train_labels, test_data, test_labels = # dopuni ovde\n",
    "\n",
    "# formiranje dataframe-a za korelacionu analizu karakteristika\n",
    "df1 = pd.DataFrame(train_data)\n",
    "df2 = pd.DataFrame(test_data)\n",
    "df = pd.concat([df1, df2])\n",
    "\n",
    "# dodavanje labela u dataframe\n",
    "df['label'] = np.concatenate((train_labels, test_labels))\n",
    "\n",
    "\"\"\" prikazati dataframe \"\"\"\n",
    "# dopuni ovde"
   ]
  },
  {
   "cell_type": "markdown",
   "metadata": {},
   "source": [
    "Pogledaj ovaj dataframe. U njemu se nalaze tri različite karakteristike za 427 slika iz baze, kao i odgovarajuće labela za svaku. <span style=\"color:blue\">  Kako da znamo da li su ove karakteristike koje su izdvojene dovoljno dobre? </span>  Možemo uraditi korelacionu analizu sa labelama.\n",
    "\n",
    "<span style=\"color:red\"> Dopuniti ćeliju ispod. </span>"
   ]
  },
  {
   "cell_type": "code",
   "execution_count": null,
   "metadata": {},
   "outputs": [],
   "source": [
    "corr_analysis = abs(df.corr()['label']).sort_values(ascending=False)    # korelacija karakteristika sa labelama\n",
    "corr_analysis = \"\"\" iskljuciti korelaciju labele sa samom sobom \"\"\"\n",
    "corr_analysis"
   ]
  },
  {
   "cell_type": "markdown",
   "metadata": {},
   "source": [
    "Brojevi iznad predstavljau koliko je neka od karakteristika korelisana sa labelama. Vidimo da je najbolja druga, dok je najmanje korelisana prva.    \n",
    "Osim korelacije karakteristika sa labelama, možemo proveriti i koliko su one uzajamno slične. Tačnije, da li nose iste informacije.\n",
    "\n",
    "<span style=\"color:red\"> Dopuniti ćeliju ispod. </span>"
   ]
  },
  {
   "cell_type": "code",
   "execution_count": 149,
   "metadata": {},
   "outputs": [
    {
     "data": {
      "text/plain": [
       "' Pomocu funkcije heatmap iz sn paketa prikazati korelacionu matricu '"
      ]
     },
     "execution_count": 149,
     "metadata": {},
     "output_type": "execute_result"
    }
   ],
   "source": [
    "# posmatranje medjusobne korelacije karakteristika\n",
    "corr = df[corr_indexes].corr()\n",
    "\n",
    "\"\"\" Pomocu funkcije heatmap iz sn paketa prikazati korelacionu matricu \"\"\"\n",
    "# dopuniti ovde"
   ]
  },
  {
   "cell_type": "markdown",
   "metadata": {},
   "source": [
    "Sa korelacione matrice iznad, možeš videti da je nulta karakteristika jako korelisana i sa prvom i sa drugom, dok su prva i druga karakterisitka međusobno slabije korelisane. Odatle se zaključuje da nulta karakteristika sadrži dosta sličnih informacija sa prvom i drugom karakteristikom, pa možda i nije toliko informativna. Ovu hipotezu ćemo proveriti klasifikacijom."
   ]
  },
  {
   "cell_type": "markdown",
   "metadata": {},
   "source": [
    "## Klasifikacija"
   ]
  },
  {
   "cell_type": "code",
   "execution_count": 93,
   "metadata": {},
   "outputs": [
    {
     "data": {
      "text/plain": [
       "array([[0.50785 , 0.1201  , 0.38775 ],\n",
       "       [0.502425, 0.1798  , 0.322625],\n",
       "       [0.295075, 0.      , 0.295075],\n",
       "       ...,\n",
       "       [0.4002  , 0.0479  , 0.3523  ],\n",
       "       [0.436975, 0.09995 , 0.337025],\n",
       "       [0.393675, 0.043375, 0.3503  ]])"
      ]
     },
     "execution_count": 93,
     "metadata": {},
     "output_type": "execute_result"
    }
   ],
   "source": [
    "# prikaz trening podataka\n",
    "train_data"
   ]
  },
  {
   "cell_type": "markdown",
   "metadata": {},
   "source": [
    "Iz analize karakteristika, došli smo do zaključka da karakteristike 1 i 2 nose većinu sadržaja prve, tako da je za dalju klasifikaciju možda potrebno koristiti samo njih. \n",
    "\n",
    "<span style=\"color:red\"> Nakon pokretanja kNN klasifikacije, izmeniti ćeliju ispod tako da se uzmu samo prva i druga karakterisika i posmatrati kako se rezultati klasifikacije menjaju. </span>"
   ]
  },
  {
   "cell_type": "code",
   "execution_count": 137,
   "metadata": {},
   "outputs": [],
   "source": [
    "od = 0\n",
    "train_data = train_data[:, od:]\n",
    "test_data = test_data[:, od:]"
   ]
  },
  {
   "cell_type": "markdown",
   "metadata": {},
   "source": [
    "### KNN (k najbližih suseda)"
   ]
  },
  {
   "cell_type": "markdown",
   "metadata": {},
   "source": [
    "Prvi klasifikator koji ćeš implementirati je klasifikator K Najbližih Suseda. Ispod se nalazi ilustrativni prikaz njegovog algoritma odlučivanja.\n",
    "<img src=\"knn.gif\" width=\"500\" height=\"360\"/>"
   ]
  },
  {
   "cell_type": "markdown",
   "metadata": {},
   "source": [
    "<span style=\"color:red\"> Dopuniti ćeliju ispod. </span>"
   ]
  },
  {
   "cell_type": "code",
   "execution_count": null,
   "metadata": {},
   "outputs": [],
   "source": [
    "train_data, train_labels, test_data, test_labels = \"\"\" podela podataka na trening i test set \"\"\"\n",
    "\n",
    "\"\"\" pomocu funkcije KNeighborsClassifier definisati klasifikator \"\"\"\n",
    "knn = # dopuniti ovde\n",
    "\"\"\" pomocu funkcije fit, trenirati klasifikator \"\"\"\n",
    "# dopuniti ovde \n",
    "\"\"\" pomocu funkcije predict, testirati klasifikator \"\"\"\n",
    "# dopuniti ovde\n",
    "\"\"\" pomocu funkcije accuracy_score odrediti tacnost klasifikacije \"\"\"\n",
    "acc = # dopuniti ovde\n",
    "\n",
    "acc"
   ]
  },
  {
   "cell_type": "markdown",
   "metadata": {},
   "source": [
    "Menjati broj suseda kao parametar koji se koristi za klasifikaciju. Komentariši kako se tačnost menja promenom K:\n",
    "\n",
    "<span style=\"color:red\"> Ovde dopisati odgovor na prethodnu analizu. </span>"
   ]
  },
  {
   "cell_type": "markdown",
   "metadata": {},
   "source": [
    "Prisetimo se pojma krosvalidacije. Šta ona predstavlja?  \n",
    "<span style=\"color:red\"> Ovde upisati komentar na zadato pitanje. </span>    \n",
    "\n",
    "<span style=\"color:red\"> Dopuniti ćeliju ispod tako da se čuvaju metrike i matrice konfuzije za 20 različitih foldova, a onda prikazati prosečne i najbolje rezultate. </span>  "
   ]
  },
  {
   "cell_type": "code",
   "execution_count": 138,
   "metadata": {},
   "outputs": [],
   "source": [
    "num_of_folds = 20         # broj ponavljanja\n",
    "accs, matrices = [], []   # liste za cuvanje tacnosti i matrica konfuzije\n",
    "\n",
    "for i in range(num_of_folds):\n",
    "    \n",
    "    \"\"\" kompletan kod iz prethodne celije iskoristiti ovde \"\"\"\n",
    "    # dopuniti ovde\n",
    "    \n",
    "    \"\"\" pomocu funkcije confusion_matrix odrediti matricu konfuzije za svaki fold \"\"\"\n",
    "    conf = # dopuniti ovde\n",
    "    \n",
    "    accs.append(acc)\n",
    "    matrices.append(conf)"
   ]
  },
  {
   "cell_type": "markdown",
   "metadata": {},
   "source": [
    "<span style=\"color:red\"> Dopuniti ćeliju ispod. </span>  "
   ]
  },
  {
   "cell_type": "code",
   "execution_count": null,
   "metadata": {},
   "outputs": [],
   "source": [
    "# prikaz prosecne tacnosti i standardne devijacije\n",
    "sr_tacnost = \"\"\" ovde pronaći srednju vrednost tacnosti u procentima primenom funkcije iz numpy biblioteke \"\"\"\n",
    "std = \"\"\" ovde odrediti standardnu devijaciju tacnosti u procentima primenom funkcije iz numpy biblioteke \"\"\"\n",
    "\n",
    "print(\"Accuracy: \", round(sr_tacnost, 2), \"%\")\n",
    "print(\"Standard deviation: \", round(std, 2), \"%\")\n",
    "\n",
    "# prikaz najvece tacnosti i date matrice konfuzije\n",
    "max_acc = np.argmax(accs)\n",
    "print(\"Max accuracy: \", round(accs[max_acc]*100, 2), \"%\")\n",
    "\n",
    "# prikaz matrice konfuzije sa celim prikazom brojeva\n",
    "print(\"Confusion matrix: \")\n",
    "df_cm = pd.DataFrame(matrices[max_acc], index = [i for i in ['kamen', 'papir', 'makaze']],\n",
    "                    columns = [i for i in ['kamen', 'papir', 'makaze']])\n",
    "plt.figure(figsize = (10,7))\n",
    "sn.heatmap(df_cm, annot=True, fmt='g')\n",
    "plt.show()"
   ]
  },
  {
   "cell_type": "markdown",
   "metadata": {},
   "source": [
    "Osmotri dobijene brojke. Srednja i maksimalna tačnost se kreću u opsegu 70-75%. Za klasifikaciju tri različite klase, random verovatnoća podotka iznosi 33.33%. U poređenju sa tim, kao i uzimajući u obzir jednostavnost korišćenih karakteristika, može se reći da dati klasifikator dovoljno dobro radi posao.  "
   ]
  },
  {
   "cell_type": "markdown",
   "metadata": {},
   "source": [
    "### Bajesov test minimalne verovatnoće greške"
   ]
  },
  {
   "cell_type": "markdown",
   "metadata": {},
   "source": [
    "Ispred tebe se nalazi novi vid klasifikatora. <span style=\"color:blue\"> Pokušaj da odgovoriš na sledeće pitanje: Kako se Bajesov test minimalne verovatnoće greške razlikuje od KNN klasifikatora? </span> Pokreni kod ispod i analiziraj rezultate. <span style=\"color:blue\"> Da li je on pogodniji za ovu problematiku? Kakva se tačnost dobija? </span>"
   ]
  },
  {
   "cell_type": "code",
   "execution_count": 98,
   "metadata": {},
   "outputs": [],
   "source": [
    "def testing_hypothesis(train_data, train_labels, test_data, test_labels, chosen_features = corr_indexes): \n",
    "    \"\"\"Metoda testiranja hipoteza\"\"\"\n",
    "\n",
    "    train_data = train_data[:, chosen_features]         # izdvajanje karakteristika koje ce biti koriscene za klasifikaciju\n",
    "    test_data = test_data[:, chosen_features]           # izdvajanje karakteristika koje ce biti koriscene za klasifikaciju\n",
    "    \n",
    "    exp_avg1 = np.mean(train_data[train_labels == 0], axis=0)   # Ek - ovekivanje za kamen\n",
    "    cov1 = np.cov(train_data[train_labels == 0].T)              # Sk - kovarijaciona matrica za kamen\n",
    "    exp_avg2 = np.mean(train_data[train_labels == 1], axis=0)   # Ep - ovekivanje za papir\n",
    "    cov2 = np.cov(train_data[train_labels == 1].T)              # Sp - kovarijaciona matrica za papir\n",
    "    exp_avg3 = np.mean(train_data[train_labels == 2], axis=0)   # Em - ovekivanje za makaze\n",
    "    cov3 = np.cov(train_data[train_labels == 2].T)              # Sm - kovarijaciona matrica za makaze\n",
    "\n",
    "    p1 = len(train_data[train_labels == 0]) / len(train_data)   # verovatnoca kamena \n",
    "    p2 = len(train_data[train_labels == 1]) / len(train_data)   # verovatnoca papira\n",
    "    p3 = len(train_data[train_labels == 2]) / len(train_data)   # verovatnoca makaza\n",
    "\n",
    "    f1 = lambda x: 1 / np.sqrt((2*np.pi)**2 * np.linalg.det(cov1)) * np.exp(-0.5 * (x - exp_avg1).T @ np.linalg.inv(cov1) @ (x - exp_avg1)) # fgv za kamen\n",
    "    f2 = lambda x: 1 / np.sqrt((2*np.pi)**2 * np.linalg.det(cov2)) * np.exp(-0.5 * (x - exp_avg2).T @ np.linalg.inv(cov2) @ (x - exp_avg2)) # fgv za papir\n",
    "    f3 = lambda x: 1 / np.sqrt((2*np.pi)**2 * np.linalg.det(cov3)) * np.exp(-0.5 * (x - exp_avg3).T @ np.linalg.inv(cov3) @ (x - exp_avg3)) # fgv za makaze\n",
    "\n",
    "    predicted = []  # predvidjene labele\n",
    "    for x in test_data:     \n",
    "        if p1*f1(x) > p2*f2(x) and p1*f1(x) > p3*f3(x):     \n",
    "            predicted.append(0)\n",
    "        elif p2*f2(x) > p1*f1(x) and p2*f2(x) > p3*f3(x):\n",
    "            predicted.append(1)\n",
    "        else:\n",
    "            predicted.append(2)\n",
    "\n",
    "    # racunanje tacnosti i matrice konfuzije\n",
    "    return sum(predicted == test_labels) / len(test_labels), confusion_matrix(test_labels, predicted)"
   ]
  },
  {
   "cell_type": "markdown",
   "metadata": {},
   "source": [
    "<span style=\"color:red\"> Dopuniti ćeliju ispod. </span>  "
   ]
  },
  {
   "cell_type": "code",
   "execution_count": 144,
   "metadata": {},
   "outputs": [],
   "source": [
    "num_of_folds = 20         # broj ponavljanja\n",
    "accs, matrices = [], []   # liste za cuvanje tacnosti i matrica konfuzije\n",
    "\n",
    "for i in range(num_of_folds):\n",
    "    train_data, train_labels, test_data, test_labels = \"\"\" podela na setove \"\"\"\n",
    "    acc, conf = \"\"\" primena testiranja hipoteza na prvoj i drugoj karakteristici \"\"\"\n",
    "    accs.append(acc)\n",
    "    matrices.append(conf)"
   ]
  },
  {
   "cell_type": "code",
   "execution_count": null,
   "metadata": {},
   "outputs": [],
   "source": [
    "# prikaz prosecne tacnosti i standardne devijacije\n",
    "print(\"Accuracy: \", round(np.mean(accs)*100, 2), \"%\")\n",
    "print(\"Standard deviation: \", round(np.std(accs)*100, 2), \"%\")\n",
    "\n",
    "# prikaz najvece tacnosti i date matrice konfuzije\n",
    "max_acc = np.argmax(accs)\n",
    "print(\"Max accuracy: \", round(accs[max_acc]*100, 2), \"%\")\n",
    "\n",
    "# prikaz matrice konfuzije sa celim prikazom brojeva\n",
    "print(\"Confusion matrix: \")\n",
    "df_cm = pd.DataFrame(matrices[max_acc], index = [i for i in ['kamen', 'papir', 'makaze']],\n",
    "                    columns = [i for i in ['kamen', 'papir', 'makaze']])\n",
    "plt.figure(figsize = (10,7))\n",
    "sn.heatmap(df_cm, annot=True, fmt='g')\n",
    "plt.show()"
   ]
  },
  {
   "cell_type": "markdown",
   "metadata": {},
   "source": [
    "Iz korelacione matrice uoči koja se dva položaja šake najmanje mešaju, pa za ta dva elementa prikaži histograme obeležja. Uporediti ih i analiziraj njihove razlike."
   ]
  },
  {
   "cell_type": "markdown",
   "metadata": {},
   "source": [
    "Prikaz histograma obeležja 1\n",
    "\n",
    "<span style=\"color:red\"> Dopuniti ćeliju ispod. </span>  "
   ]
  },
  {
   "cell_type": "code",
   "execution_count": null,
   "metadata": {},
   "outputs": [],
   "source": [
    "klasa_1 =          # dopuniti\n",
    "klasa_2 =          # dopuniti \n",
    "obelezje =         # dopuniti ovde\n",
    "velicina_prozora = # dopuniti ovde\n",
    "\n",
    "plt.figure(figsize=(15, 5))\n",
    "plt.subplot(1, 2, 1)\n",
    "plt.hist(train_data[train_labels == klasa_1][:, obelezje], bins=20)\n",
    "plt.title('Histogram obelezja x za klasu y')\n",
    "plt.subplot(1, 2, 2)\n",
    "\"\"\" dopuniti delom za istu karakteristiku za drugu klasu \"\"\"\n",
    "# ovde\n",
    "plt.show()"
   ]
  },
  {
   "cell_type": "markdown",
   "metadata": {},
   "source": [
    "Prikaz histograma obeležja 2\n",
    "\n",
    "<span style=\"color:red\"> Dopuniti ćeliju ispod. </span>  "
   ]
  },
  {
   "cell_type": "code",
   "execution_count": null,
   "metadata": {},
   "outputs": [],
   "source": [
    "klasa_1 =          # dopuniti\n",
    "klasa_2 =          # dopuniti \n",
    "obelezje =         # dopuniti ovde\n",
    "velicina_prozora = # dopuniti ovde\n",
    "\n",
    "plt.figure(figsize=(15, 5))\n",
    "plt.subplot(1, 2, 1)\n",
    "plt.hist(train_data[train_labels == klasa_1][:,obelezje], bins=velicina_prozora)\n",
    "plt.title('Histogram obelezja x za klasu y')\n",
    "plt.subplot(1, 2, 2)\n",
    "\"\"\" dopuniti delom za istu karakteristiku za drugu klasu \"\"\"\n",
    "# ovde\n",
    "plt.show()"
   ]
  },
  {
   "cell_type": "markdown",
   "metadata": {},
   "source": [
    "Kako se razlikuju dati histogrami?\n",
    "- <span style=\"color:red\"> Ovde upisati komentar za prvu karakteristiku. </span>  \n",
    "- <span style=\"color:red\"> Ovde upisati komentar za drugu karakteristiku. </span>  "
   ]
  },
  {
   "cell_type": "markdown",
   "metadata": {},
   "source": [
    "### Linearni klasifikator na bazi željenog izlaza"
   ]
  },
  {
   "cell_type": "markdown",
   "metadata": {},
   "source": [
    "Pred tobom je još jedan vid klasifikatora projektovan za prepoznavanje dva položaja šake. Odluči se za dve konkretne klase koje ćeš posmatrati. \n",
    "\n",
    "Ovde se nalazi nova funkcija za podelu podataka na trening i test, jer se sada posmatraju samo dve klase."
   ]
  },
  {
   "cell_type": "markdown",
   "metadata": {},
   "source": [
    "<span style=\"color:red\"> Dopuniti ćeliju ispod. </span>  "
   ]
  },
  {
   "cell_type": "code",
   "execution_count": 104,
   "metadata": {},
   "outputs": [],
   "source": [
    "# funkcija za formiranje trening i test skupa za binarnu klasifikaciju\n",
    "def train_test_2(paper, scissors, perc = 0.8):    \n",
    "\n",
    "    \"\"\" kao i pri prosloj podeli podataka promesati papir i makaze \"\"\"\n",
    "    # dopuni ovde\n",
    "\n",
    "    paper_train, paper_test = paper[:int(len(paper)*perc)], paper[int(len(paper)*perc):]                      # podela papira na trening i test skup\n",
    "    scissors_train, scissors_test = scissors[:int(len(scissors)*perc)], scissors[int(len(scissors)*perc):]    # podela makaza na trening i test skup              \n",
    "\n",
    "    train_set = \"\"\" spojiti ceo trening skup \"\"\"\n",
    "    test_set = \"\"\" spojiti ceo test skup \"\"\"\n",
    "\n",
    "    \"\"\" promesati trening i test set \"\"\"\n",
    "    # dopuni ovde\n",
    "\n",
    "    train_data = np.array([x[0] for x in train_set])        # izdvajanje trening podataka\n",
    "    train_labels = np.array([x[1] for x in train_set])      # izdvajanje labela za trening\n",
    "    test_data = np.array([x[0] for x in test_set])          # izdvajanje test podataka\n",
    "    test_labels = np.array([x[1] for x in test_set])        # izdvajanje labela za test\n",
    "\n",
    "    return train_data, train_labels, test_data, test_labels"
   ]
  },
  {
   "cell_type": "markdown",
   "metadata": {},
   "source": [
    "Projektovati linearni klasifikator na bazi željenog izlaza pomoću formule sa predavanja:"
   ]
  },
  {
   "cell_type": "markdown",
   "metadata": {},
   "source": [
    "<img src=\"slika_lin.png\" width=\"700\" height=\"200\"/>"
   ]
  },
  {
   "cell_type": "markdown",
   "metadata": {},
   "source": [
    "<span style=\"color:red\"> Dopuniti ćeliju ispod. </span>  "
   ]
  },
  {
   "cell_type": "code",
   "execution_count": 105,
   "metadata": {},
   "outputs": [],
   "source": [
    "def linear_classifier(train_data, train_labels, test_data, test_labels):\n",
    "    \"\"\"Linearni klasifikator na bazi zeljenog izlaza\"\"\"\n",
    "\n",
    "    train_data = np.concatenate((train_data, np.ones((len(train_data), 1))), axis=1) # dodavanje kolone jedinica\n",
    "    test_data = np.concatenate((test_data, np.ones((len(test_data), 1))), axis=1)    # dodavanje kolone jedinica\n",
    "\n",
    "    train_data = train_data.T\n",
    "\n",
    "    #change train and test labels to -1 and 1\n",
    "    train_labels[train_labels == 2] = -1\n",
    "\n",
    "    train_labels = train_labels.T\n",
    "\n",
    "    W = \"\"\" dopuniti računanje po formuli \"\"\"\n",
    "\n",
    "    results = test_data @ W                                                          # rezultati klasifikacije\n",
    "\n",
    "    train_labels = train_labels.T\n",
    "    train_data = train_data.T\n",
    "\n",
    "    predicted = np.where(results > 0, 1, 2)                                          # predvidjene labele\n",
    "    train_labels[train_labels == -1] = 2                                             # vracanje labela na 1 i 2\n",
    "\n",
    "    # racunanje tacnosti i matrice konfuzije\n",
    "    return sum(predicted == test_labels) / len(test_labels), confusion_matrix(test_labels, predicted), W\n",
    "    "
   ]
  },
  {
   "cell_type": "markdown",
   "metadata": {},
   "source": [
    "Krosvalidacija za 20 foldova i linearni klasifikator."
   ]
  },
  {
   "cell_type": "markdown",
   "metadata": {},
   "source": [
    "<span style=\"color:red\"> Dopuniti ćeliju ispod. </span>  "
   ]
  },
  {
   "cell_type": "code",
   "execution_count": 106,
   "metadata": {},
   "outputs": [],
   "source": [
    "num_of_folds = 20           # broj ponavljanja\n",
    "accs, matrices = [], []     # liste za cuvanje tacnosti i matrica konfuzije\n",
    "chosen_features = [1, 2]    # indeksi obelezja koja ce biti koriscena za klasifikaciju\n",
    "Ws = []                     # lista za cuvanje tezina\n",
    "data_for_plotting = []      # lista za cuvanje trening i test skupa\n",
    "\n",
    "for i in range(num_of_folds):\n",
    "    trd, trl, ted, tel = train_test_2(paper, scissors)          # podela podataka na trening i test skup\n",
    "\n",
    "    trd = trd[:, chosen_features]                               # izdvajanje obelezja koja ce biti koriscena za klasifikaciju\n",
    "    ted = ted[:, chosen_features]                               # izdvajanje obelezja koja ce biti koriscena za klasifikaciju\n",
    "\n",
    "    acc, conf, W = \"\"\" primena linearnog klasifikatora \"\"\"\n",
    "\n",
    "    # cuvanje rezultata\n",
    "    accs.append(acc)                                    \n",
    "    matrices.append(conf)\n",
    "    Ws.append(W)\n",
    "    data_for_plotting.append([trd, trl, ted, tel])"
   ]
  },
  {
   "cell_type": "markdown",
   "metadata": {},
   "source": [
    "Analiza rezultata:"
   ]
  },
  {
   "cell_type": "code",
   "execution_count": null,
   "metadata": {},
   "outputs": [],
   "source": [
    "# prikaz prosecne tacnosti i standardne devijacije\n",
    "print(\"Accuracy: \", round(np.mean(accs)*100, 2), \"%\")\n",
    "print(\"Standard deviation: \", round(np.std(accs)*100, 2), \"%\")\n",
    "\n",
    "# prikaz najvece tacnosti i date matrice konfuzije\n",
    "max_acc = np.argmax(accs)\n",
    "print(\"Max accuracy: \", round(accs[max_acc]*100, 2), \"%\")\n",
    "\n",
    "# prikaz matrice konfuzije sa celim prikazom brojeva\n",
    "print(\"Confusion matrix: \")\n",
    "df_cm = pd.DataFrame(matrices[max_acc], index = [i for i in ['papir', 'makaze']],\n",
    "                    columns = [i for i in ['papir', 'makaze']])\n",
    "plt.figure(figsize = (10,7))\n",
    "sn.heatmap(df_cm, annot=True, fmt='g')\n",
    "plt.show()"
   ]
  },
  {
   "cell_type": "markdown",
   "metadata": {},
   "source": [
    "<span style=\"color:blue\"> Šta se zaključuje iz matrice konfuzije i rezultata klasifikacije? Kakva je tačnost i koje se klase više mešaju? Da li dolazi do preobučavanja, nedovoljnog obučavanja ili je obučavanje regularno? Kako se može popraviti tačnost? </span>"
   ]
  },
  {
   "cell_type": "code",
   "execution_count": 108,
   "metadata": {},
   "outputs": [],
   "source": [
    "# parametri za prikazivanje (iteracija sa najvecom tacnoscu)\n",
    "trd = data_for_plotting[max_acc][0]\n",
    "trl = data_for_plotting[max_acc][1]\n",
    "ted = data_for_plotting[max_acc][2]\n",
    "tel = data_for_plotting[max_acc][3]\n",
    "w_0 = Ws[max_acc][2]\n",
    "w_1 = Ws[max_acc][1]\n",
    "w_2 = Ws[max_acc][0]"
   ]
  },
  {
   "cell_type": "markdown",
   "metadata": {},
   "source": [
    "Plotovanje kriterijumske funkcije u prostoru dva najbolja obeležja."
   ]
  },
  {
   "cell_type": "markdown",
   "metadata": {},
   "source": [
    "<span style=\"color:red\"> Predvideti y pomoću formule: w_0 + w_1\\*y + w_2*x = 0. Dopuniti ćeliju ispod.</span>  "
   ]
  },
  {
   "cell_type": "code",
   "execution_count": null,
   "metadata": {},
   "outputs": [],
   "source": [
    "plt.figure(figsize=(15, 5))   \n",
    "\n",
    "# prikaz odbiraka iz trening skupa\n",
    "plt.subplot(1, 2, 1)\n",
    "plt.scatter(trd[trl == 1][:,0], trd[trl == 1][:,1], label='papir')\n",
    "plt.scatter(trd[trl == 2][:,0], trd[trl == 2][:,1], label='makaze')\n",
    "plt.title('Trening skup'), plt.xlabel('11. obelezje'), plt.ylabel('19. obelezje'), plt.legend()\n",
    "\n",
    "# prikaz odbiraka iz test skupa\n",
    "plt.subplot(1, 2, 2)\n",
    "plt.scatter(ted[tel == 1][:,0], ted[tel == 1][:,1], label='papir')\n",
    "plt.scatter(ted[tel == 2][:,0], ted[tel == 2][:,1], label='makaze')\n",
    "plt.title('Test skup'), plt.xlabel('11. obelezje'), plt.ylabel('19. obelezje'), plt.legend()\n",
    "\n",
    "# prikaz kriterijumske funkciije\n",
    "x = np.linspace(min(trd[:,0])-1, max(trd[:,0])+1, 100)\n",
    "y = \"\"\" Odrediti y preko formule \"\"\"\n",
    "\n",
    "\"\"\" plotovati separacionu krivu preko pomocu x i y ose \"\"\"\"\n",
    "# dopuniti plot ovde\n",
    "\n",
    "# ogranicenja\n",
    "plt.xlim(min(trd[:,0])-1, max(trd[:,0])+1)\n",
    "plt.ylim(min(trd[:,1]), max(trd[:,1]))\n",
    "plt.show();"
   ]
  },
  {
   "cell_type": "markdown",
   "metadata": {},
   "source": [
    "<span style=\"color:blue\"> Da li su ove klase linearno separabile? Koja bi funkcija bila adekvatniji izbor za separacionu krivu? </span>"
   ]
  },
  {
   "cell_type": "markdown",
   "metadata": {},
   "source": [
    "## Drugi deo zadatka"
   ]
  },
  {
   "cell_type": "markdown",
   "metadata": {},
   "source": [
    "I još jednom isto pitanje - zamisli da tvoj kupac zeli da poveća tačnost! Kako to možeš uraditi?    \n",
    "Vrati se naprethodne korake gde si izvlačio/la karakteristike i dodaj još neke za koje misliš da će biti informativnije i korisnije od trenutnih. Ponovo pokreni sve segmente koda i analiziraj rezultate. Šta sada dobijaš? Da li su rezultati bolji i ako da zašto?\n",
    "\n",
    "Objasni karakteristike koje si dodao/la. Zašto si inicijalno mislio/la da će se pokazati dobro i kako su se tvoja očekivanja ispunila?"
   ]
  }
 ],
 "metadata": {
  "kernelspec": {
   "display_name": "Python 3 (ipykernel)",
   "language": "python",
   "name": "python3"
  },
  "language_info": {
   "codemirror_mode": {
    "name": "ipython",
    "version": 3
   },
   "file_extension": ".py",
   "mimetype": "text/x-python",
   "name": "python",
   "nbconvert_exporter": "python",
   "pygments_lexer": "ipython3",
   "version": "3.9.2"
  }
 },
 "nbformat": 4,
 "nbformat_minor": 4
}
